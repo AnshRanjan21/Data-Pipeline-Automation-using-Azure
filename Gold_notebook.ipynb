{
 "cells": [
  {
   "cell_type": "code",
   "execution_count": 0,
   "metadata": {
    "application/vnd.databricks.v1+cell": {
     "cellMetadata": {
      "byteLimit": 2048000,
      "rowLimit": 10000
     },
     "inputWidgets": {},
     "nuid": "31de7cf6-a00d-4cf4-abe5-bcd5680f83c7",
     "showTitle": false,
     "tableResultSettingsMap": {},
     "title": ""
    }
   },
   "outputs": [],
   "source": [
    "from pyspark.sql import SparkSession\n",
    "spark = SparkSession.builder.appName(\"goldlayer\").getOrCreate()"
   ]
  },
  {
   "cell_type": "markdown",
   "metadata": {
    "application/vnd.databricks.v1+cell": {
     "cellMetadata": {},
     "inputWidgets": {},
     "nuid": "a68c94e9-3e29-42f5-9cf6-0476bae127bb",
     "showTitle": false,
     "tableResultSettingsMap": {},
     "title": ""
    }
   },
   "source": [
    "If you are using the same workspace you will need to mount the silver layer again. Since this notebook is in the same workspace as the Silver_notebook the silverlayer container is already mounted"
   ]
  },
  {
   "cell_type": "code",
   "execution_count": 0,
   "metadata": {
    "application/vnd.databricks.v1+cell": {
     "cellMetadata": {
      "byteLimit": 2048000,
      "rowLimit": 10000
     },
     "inputWidgets": {},
     "nuid": "f7a38941-45e0-4b02-8fa2-a36288c6a76f",
     "showTitle": false,
     "tableResultSettingsMap": {},
     "title": ""
    }
   },
   "outputs": [],
   "source": [
    "%fs ls dbfs:/mnt/silver/"
   ]
  },
  {
   "cell_type": "markdown",
   "metadata": {
    "application/vnd.databricks.v1+cell": {
     "cellMetadata": {},
     "inputWidgets": {},
     "nuid": "92593edb-333a-4687-a14a-0ef9af58b2fb",
     "showTitle": false,
     "tableResultSettingsMap": {},
     "title": ""
    }
   },
   "source": [
    "####Load\n",
    "\n",
    "Reading the data from Silverlayer container"
   ]
  },
  {
   "cell_type": "code",
   "execution_count": 0,
   "metadata": {
    "application/vnd.databricks.v1+cell": {
     "cellMetadata": {
      "byteLimit": 2048000,
      "rowLimit": 10000
     },
     "inputWidgets": {},
     "nuid": "0bcefa1f-9325-4d45-8e3f-725d307e61e4",
     "showTitle": false,
     "tableResultSettingsMap": {},
     "title": ""
    }
   },
   "outputs": [],
   "source": [
    "# Read the Parquet file into a DataFrame\n",
    "df = spark.read.format(\"parquet\").load(\"dbfs:/mnt/silver/online_retail_parquet/\")"
   ]
  },
  {
   "cell_type": "code",
   "execution_count": 0,
   "metadata": {
    "application/vnd.databricks.v1+cell": {
     "cellMetadata": {
      "byteLimit": 2048000,
      "rowLimit": 10000
     },
     "inputWidgets": {},
     "nuid": "5a8a25aa-5e32-41a4-98e0-e11fc29db0e9",
     "showTitle": false,
     "tableResultSettingsMap": {},
     "title": ""
    }
   },
   "outputs": [],
   "source": [
    "df.show(10)"
   ]
  },
  {
   "cell_type": "markdown",
   "metadata": {
    "application/vnd.databricks.v1+cell": {
     "cellMetadata": {},
     "inputWidgets": {},
     "nuid": "d6b4aa7c-e383-4698-947d-2e4bbf01ca49",
     "showTitle": false,
     "tableResultSettingsMap": {},
     "title": ""
    }
   },
   "source": [
    "####Transform\n",
    "\n",
    "Performing Aggregations:\n",
    "Since each item of invoices are listed as a separate row we need to group the rows by InvoiceID"
   ]
  },
  {
   "cell_type": "code",
   "execution_count": 0,
   "metadata": {
    "application/vnd.databricks.v1+cell": {
     "cellMetadata": {
      "byteLimit": 2048000,
      "rowLimit": 10000
     },
     "inputWidgets": {},
     "nuid": "72f959c4-7f19-4d17-a1a7-f5f4746875b0",
     "showTitle": false,
     "tableResultSettingsMap": {},
     "title": ""
    }
   },
   "outputs": [],
   "source": [
    "from pyspark.sql.functions import first\n",
    "\n",
    "df_grouped = df.groupBy(\"InvoiceNo\").agg(\n",
    "    first(\"CustomerID\").alias(\"CustomerID\"),\n",
    "    first(\"Country\").alias(\"Country\"),\n",
    "    first(\"customer_count\").alias(\"customer_count\"),\n",
    "    first(\"Flag_reorder\").alias(\"Flag_reorder\")\n",
    ")\n",
    "\n",
    "df_grouped.show()"
   ]
  },
  {
   "cell_type": "code",
   "execution_count": 0,
   "metadata": {
    "application/vnd.databricks.v1+cell": {
     "cellMetadata": {
      "byteLimit": 2048000,
      "rowLimit": 10000
     },
     "inputWidgets": {},
     "nuid": "81e3d656-7ad6-4050-895d-4ead67157e43",
     "showTitle": false,
     "tableResultSettingsMap": {},
     "title": ""
    }
   },
   "outputs": [],
   "source": [
    "df_customer_only = df.groupBy(\"CustomerID\").agg(\n",
    "    first(\"Country\").alias(\"Country\"),\n",
    "    first(\"customer_count\").alias(\"customer_count\"),\n",
    "    first(\"Flag_reorder\").alias(\"Flag_reorder\")\n",
    ")\n",
    "\n",
    "df_customer_only.show()"
   ]
  },
  {
   "cell_type": "markdown",
   "metadata": {
    "application/vnd.databricks.v1+cell": {
     "cellMetadata": {},
     "inputWidgets": {},
     "nuid": "771bf9fb-714a-4167-80c1-b0b3d7258755",
     "showTitle": false,
     "tableResultSettingsMap": {},
     "title": ""
    }
   },
   "source": [
    "Finding out the customer retention"
   ]
  },
  {
   "cell_type": "code",
   "execution_count": 0,
   "metadata": {
    "application/vnd.databricks.v1+cell": {
     "cellMetadata": {
      "byteLimit": 2048000,
      "rowLimit": 10000
     },
     "inputWidgets": {},
     "nuid": "b84a564b-aeee-48a7-badc-f78fed7d7fe5",
     "showTitle": false,
     "tableResultSettingsMap": {},
     "title": ""
    }
   },
   "outputs": [],
   "source": [
    "from pyspark.sql.functions import col\n",
    "\n",
    "#Customers who have placed only 1 order\n",
    "customers_one = df_customer_only.filter(col(\"Flag_reorder\") == 0).count()\n",
    "print(f\"Number of customers with only 1 order placed: {customers_one}\")\n",
    "\n",
    "#Customers who have placed multiple orders\n",
    "customers_multi = df_customer_only.filter(col(\"Flag_reorder\") == 1).count()\n",
    "print(f\"Number of customers with multiple orders placed: {customers_multi}\")"
   ]
  },
  {
   "cell_type": "code",
   "execution_count": 0,
   "metadata": {
    "application/vnd.databricks.v1+cell": {
     "cellMetadata": {
      "byteLimit": 2048000,
      "rowLimit": 10000
     },
     "inputWidgets": {},
     "nuid": "c0e5b462-9db4-4e89-b800-721384b84d91",
     "showTitle": false,
     "tableResultSettingsMap": {},
     "title": ""
    }
   },
   "outputs": [],
   "source": [
    "#Percentage of returning customers\n",
    "percentage = (customers_multi / (customers_one + customers_multi)) * 100\n",
    "print(f\"Customer Retention rate : {percentage:.2f}%\")"
   ]
  },
  {
   "cell_type": "markdown",
   "metadata": {
    "application/vnd.databricks.v1+cell": {
     "cellMetadata": {},
     "inputWidgets": {},
     "nuid": "19483920-f9de-421a-bd7c-1030776cb7be",
     "showTitle": false,
     "tableResultSettingsMap": {},
     "title": ""
    }
   },
   "source": [
    "Calculating the Churn Rate\n",
    "\n",
    "Customer churn rate, also known as customer attrition rate, is a metric that measures the percentage of customers who stop using a company's product or service over a given period of time. It is commonly used by businesses to evaluate customer retention and satisfaction.\n",
    "\n",
    "The formula for calculating the churn rate is:\n",
    "\n",
    "Churn Rate = (Number of customers lost/Total Numbe of customers)*100"
   ]
  },
  {
   "cell_type": "code",
   "execution_count": 0,
   "metadata": {
    "application/vnd.databricks.v1+cell": {
     "cellMetadata": {
      "byteLimit": 2048000,
      "rowLimit": 10000
     },
     "inputWidgets": {},
     "nuid": "13ef90d7-9146-46e8-803e-8a4df8170c67",
     "showTitle": false,
     "tableResultSettingsMap": {},
     "title": ""
    }
   },
   "outputs": [],
   "source": [
    "churn_rate = (customers_one / (customers_one + customers_multi)) * 100\n",
    "print(f\"The Churn Rate for the store is : {churn_rate:.2f}%\")"
   ]
  },
  {
   "cell_type": "markdown",
   "metadata": {
    "application/vnd.databricks.v1+cell": {
     "cellMetadata": {},
     "inputWidgets": {},
     "nuid": "f57d173e-7d75-48d0-8e59-0203c73d5c0d",
     "showTitle": false,
     "tableResultSettingsMap": {},
     "title": ""
    }
   },
   "source": [
    "Aggregating and storing data in 2 seperate df based on single time customer or a returning customer"
   ]
  },
  {
   "cell_type": "code",
   "execution_count": 0,
   "metadata": {
    "application/vnd.databricks.v1+cell": {
     "cellMetadata": {
      "byteLimit": 2048000,
      "rowLimit": 10000
     },
     "inputWidgets": {},
     "nuid": "08a3857f-ec06-4b78-8dec-1dc8697ea6ae",
     "showTitle": false,
     "tableResultSettingsMap": {},
     "title": ""
    }
   },
   "outputs": [],
   "source": [
    "df_single = df.filter(col(\"Flag_reorder\") == 0)\n",
    "df_returning = df.filter(col(\"Flag_reorder\") == 1)"
   ]
  },
  {
   "cell_type": "markdown",
   "metadata": {
    "application/vnd.databricks.v1+cell": {
     "cellMetadata": {},
     "inputWidgets": {},
     "nuid": "e1888ca7-cc1b-4ca1-a711-ee9808ab2e68",
     "showTitle": false,
     "tableResultSettingsMap": {},
     "title": ""
    }
   },
   "source": [
    "####Load\n",
    "\n",
    "Saving the processed data into the goldlayer container"
   ]
  },
  {
   "cell_type": "code",
   "execution_count": 0,
   "metadata": {
    "application/vnd.databricks.v1+cell": {
     "cellMetadata": {
      "byteLimit": 2048000,
      "rowLimit": 10000
     },
     "inputWidgets": {},
     "nuid": "938dbeb6-487e-4c72-834a-6cb3d4b07bf0",
     "showTitle": false,
     "tableResultSettingsMap": {},
     "title": ""
    }
   },
   "outputs": [],
   "source": [
    "#Saving this data in our gold layer container\n",
    "#mounting\n",
    "dbutils.fs.mount(\n",
    "    source=\"wasbs://goldlayer@anshstorageacc1.blob.core.windows.net/\",\n",
    "    mount_point=\"/mnt/gold\",\n",
    "    extra_configs={f\"fs.azure.account.key.anshstorageacc1.blob.core.windows.net\":<ACCESS KEY>}\n",
    ")"
   ]
  },
  {
   "cell_type": "code",
   "execution_count": 0,
   "metadata": {
    "application/vnd.databricks.v1+cell": {
     "cellMetadata": {
      "byteLimit": 2048000,
      "rowLimit": 10000
     },
     "inputWidgets": {},
     "nuid": "e6258d42-17ed-484c-a578-f5e5137ee755",
     "showTitle": false,
     "tableResultSettingsMap": {},
     "title": ""
    }
   },
   "outputs": [],
   "source": [
    "df.write.format(\"parquet\").mode(\"overwrite\").save(\"/mnt/gold/all_data_paraquet\")\n",
    "df_grouped.write.format(\"parquet\").mode(\"overwrite\").save(\"/mnt/gold/invoices_grouped_paraquet\")\n",
    "df_customer_only.write.format(\"parquet\").mode(\"overwrite\").save(\"/mnt/gold/customer_only_paraquet\")"
   ]
  },
  {
   "cell_type": "code",
   "execution_count": 0,
   "metadata": {
    "application/vnd.databricks.v1+cell": {
     "cellMetadata": {},
     "inputWidgets": {},
     "nuid": "2042a5c6-855c-47c7-86e5-93924350bf62",
     "showTitle": false,
     "tableResultSettingsMap": {},
     "title": ""
    }
   },
   "outputs": [],
   "source": []
  }
 ],
 "metadata": {
  "application/vnd.databricks.v1+notebook": {
   "computePreferences": null,
   "dashboards": [],
   "environmentMetadata": {
    "base_environment": "",
    "client": "1"
   },
   "language": "python",
   "notebookMetadata": {
    "mostRecentlyExecutedCommandWithImplicitDF": {
     "commandId": 2538814864630679,
     "dataframes": [
      "_sqldf"
     ]
    },
    "pythonIndentUnit": 4
   },
   "notebookName": "Gold_notebook",
   "widgets": {}
  },
  "language_info": {
   "name": "python"
  }
 },
 "nbformat": 4,
 "nbformat_minor": 0
}
